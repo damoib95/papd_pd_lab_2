{
 "cells": [
  {
   "cell_type": "code",
   "execution_count": 24,
   "id": "ba7df9b6-5ea0-4bd3-b746-71a243adecaf",
   "metadata": {},
   "outputs": [
    {
     "name": "stdout",
     "output_type": "stream",
     "text": [
      "{\"status\":\"ok\"}\n"
     ]
    }
   ],
   "source": [
    "import requests\n",
    "\n",
    "url = 'http://localhost:8000/health'\n",
    "\n",
    "# enviamos la solicitud GET\n",
    "response = requests.get(url)\n",
    "\n",
    "print(response.text)"
   ]
  },
  {
   "cell_type": "code",
   "execution_count": 30,
   "id": "0d6fe44c-e7fe-46da-80e5-f41729f270b1",
   "metadata": {},
   "outputs": [
    {
     "name": "stdout",
     "output_type": "stream",
     "text": [
      "{\n",
      "  \"predictions\": [\n",
      "    {\n",
      "      \"Clase1\": 0.9676683609989328,\n",
      "      \"Clase2\": 0.03233163900106718\n",
      "    },\n",
      "    {\n",
      "      \"Clase1\": 0.9012497605042887,\n",
      "      \"Clase2\": 0.09875023949571123\n",
      "    },\n",
      "    {\n",
      "      \"Clase1\": 0.9561198065103279,\n",
      "      \"Clase2\": 0.04388019348967213\n",
      "    },\n",
      "    {\n",
      "      \"Clase1\": 0.9718125128278146,\n",
      "      \"Clase2\": 0.028187487172185485\n",
      "    },\n",
      "    {\n",
      "      \"Clase1\": 0.9839062463185744,\n",
      "      \"Clase2\": 0.016093753681425675\n",
      "    },\n",
      "    {\n",
      "      \"Clase1\": 0.9871955923793463,\n",
      "      \"Clase2\": 0.01280440762065375\n",
      "    },\n",
      "    {\n",
      "      \"Clase1\": 0.9257835538200062,\n",
      "      \"Clase2\": 0.07421644617999375\n",
      "    },\n",
      "    {\n",
      "      \"Clase1\": 0.9693474329494882,\n",
      "      \"Clase2\": 0.030652567050511774\n",
      "    },\n",
      "    {\n",
      "      \"Clase1\": 0.8158949985145016,\n",
      "      \"Clase2\": 0.18410500148549838\n",
      "    },\n",
      "    {\n",
      "      \"Clase1\": 0.9863752068428213,\n",
      "      \"Clase2\": 0.013624793157178737\n",
      "    }\n",
      "  ]\n",
      "}\n"
     ]
    }
   ],
   "source": [
    "import pandas as pd\n",
    "import requests\n",
    "import json\n",
    "\n",
    "# cargar datos del archivo Parquet\n",
    "df = pd.read_parquet('data/input/test_1.parquet')\n",
    "data_json = df.to_dict(orient='records')\n",
    "\n",
    "url = 'http://localhost:8000/predict'\n",
    "\n",
    "# enviar solicitud con los datos en formato JSON\n",
    "response = requests.post(url, json={\"data\": data_json})\n",
    "\n",
    "# imprimir la respuesta de la API en JSON\n",
    "print(json.dumps(response.json(), indent=2))"
   ]
  }
 ],
 "metadata": {
  "kernelspec": {
   "display_name": "Python 3 (ipykernel)",
   "language": "python",
   "name": "python3"
  },
  "language_info": {
   "codemirror_mode": {
    "name": "ipython",
    "version": 3
   },
   "file_extension": ".py",
   "mimetype": "text/x-python",
   "name": "python",
   "nbconvert_exporter": "python",
   "pygments_lexer": "ipython3",
   "version": "3.11.5"
  }
 },
 "nbformat": 4,
 "nbformat_minor": 5
}
